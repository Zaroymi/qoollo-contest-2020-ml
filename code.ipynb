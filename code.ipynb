{
 "cells": [
  {
   "cell_type": "code",
   "execution_count": 2,
   "metadata": {},
   "outputs": [],
   "source": [
    "import numpy as np\n",
    "import pandas as pd\n",
    "from sklearn.model_selection import train_test_split"
   ]
  },
  {
   "cell_type": "code",
   "execution_count": 27,
   "metadata": {},
   "outputs": [],
   "source": [
    "def read_dataset(test_size=0.2):\n",
    "\n",
    "    data = pd.read_csv('./dataset/indian_liver_patient.csv')\n",
    "\n",
    "    data = data.dropna()\n",
    "\n",
    "    data['Gender'] = [ 0 if gender == 'Male' else 1 for gender in data['Gender'] ]\n",
    "\n",
    "    #data=(data-data.mean())/data.std() # standartization\n",
    "    \n",
    "    x, y = data.iloc[:, :-1].to_numpy(), data.iloc[:, -1].to_numpy()\n",
    "    \n",
    "    x_train, x_test, y_train, y_test = train_test_split(x, y, test_size=test_size)\n",
    "\n",
    "    return x_train, x_test, y_train, y_test"
   ]
  },
  {
   "cell_type": "code",
   "execution_count": 28,
   "metadata": {
    "tags": []
   },
   "outputs": [],
   "source": [
    "x_train, x_test, y_train, y_test = read_dataset()"
   ]
  },
  {
   "cell_type": "code",
   "execution_count": 29,
   "metadata": {},
   "outputs": [
    {
     "output_type": "execute_result",
     "data": {
      "text/plain": "((463, 10), (463,))"
     },
     "metadata": {},
     "execution_count": 29
    }
   ],
   "source": [
    "x_train.shape, y_train.shape"
   ]
  },
  {
   "cell_type": "code",
   "execution_count": 31,
   "metadata": {},
   "outputs": [
    {
     "output_type": "execute_result",
     "data": {
      "text/plain": "SVC(C=1.0, break_ties=False, cache_size=200, class_weight=None, coef0=0.0,\n    decision_function_shape='ovr', degree=3, gamma='scale', kernel='rbf',\n    max_iter=-1, probability=False, random_state=None, shrinking=True,\n    tol=0.001, verbose=False)"
     },
     "metadata": {},
     "execution_count": 31
    }
   ],
   "source": [
    "from sklearn.linear_model import LogisticRegression\n",
    "from sklearn.svm import SVC\n",
    "\n",
    "log_regression = LogisticRegression()\n",
    "svm = SVC()\n",
    "\n",
    "log_regression.fit(x_train, y_train)\n",
    "svm.fit(x_train, y_train)\n"
   ]
  },
  {
   "cell_type": "code",
   "execution_count": 32,
   "metadata": {
    "tags": []
   },
   "outputs": [
    {
     "output_type": "stream",
     "name": "stdout",
     "text": "0.7413793103448276 0.7327586206896551\n"
    }
   ],
   "source": [
    "from sklearn.metrics import accuracy_score\n",
    "\n",
    "y_hat_log = log_regression.predict(x_test)\n",
    "y_hat_svm = svm.predict(x_test)\n",
    "\n",
    "log_acc = accuracy_score(y_test, y_hat_log)\n",
    "svm_acc = accuracy_score(y_test, y_hat_svm)\n",
    "\n",
    "print(log_acc, svm_acc)\n"
   ]
  },
  {
   "cell_type": "code",
   "execution_count": 33,
   "metadata": {},
   "outputs": [],
   "source": [
    "def get_texts(filename):\n",
    "    with(open(filename, 'r', encoding='utf-8')) as texts_file:\n",
    "            texts = texts_file.read().split('\\n')\n",
    "    return texts"
   ]
  },
  {
   "cell_type": "code",
   "execution_count": 34,
   "metadata": {},
   "outputs": [],
   "source": [
    "texts = get_texts('./dataset/bmstu_vk.txt')"
   ]
  },
  {
   "cell_type": "code",
   "execution_count": 35,
   "metadata": {},
   "outputs": [],
   "source": [
    "from sklearn.feature_extraction.text import TfidfVectorizer\n",
    "\n",
    "texts_tf_ifd = TfidfVectorizer().fit_transform(texts)"
   ]
  },
  {
   "cell_type": "code",
   "execution_count": 39,
   "metadata": {},
   "outputs": [],
   "source": [
    "vec = texts_tf_ifd[0].toarray()"
   ]
  },
  {
   "cell_type": "code",
   "execution_count": 42,
   "metadata": {},
   "outputs": [],
   "source": [
    "from sklearn.metrics import euclidean_distances\n",
    "\n",
    "results = []\n",
    "\n",
    "for text_vec in texts_tf_ifd:\n",
    "    text_vec = text_vec.toarray()\n",
    "\n",
    "    distance = euclidean_distances(vec, text_vec)\n",
    "\n",
    "    results.append(distance)\n"
   ]
  },
  {
   "cell_type": "code",
   "execution_count": 44,
   "metadata": {},
   "outputs": [
    {
     "output_type": "execute_result",
     "data": {
      "text/plain": "[array([[1.49011612e-08]]),\n array([[1.3901302]]),\n array([[1.39351423]]),\n array([[1.39736495]]),\n array([[1.40487806]]),\n array([[1.4023892]]),\n array([[1.40737862]]),\n array([[1.39426645]]),\n array([[1.40759651]]),\n array([[1.38892426]])]"
     },
     "metadata": {},
     "execution_count": 44
    }
   ],
   "source": [
    "results[:10]"
   ]
  },
  {
   "cell_type": "code",
   "execution_count": 45,
   "metadata": {},
   "outputs": [],
   "source": [
    "from gensim.models import FastText\n",
    "\n"
   ]
  },
  {
   "cell_type": "code",
   "execution_count": 46,
   "metadata": {},
   "outputs": [
    {
     "output_type": "execute_result",
     "data": {
      "text/plain": "['вечер профсоюз сегодняшний наш герой иметь многолетний история панк рок группа калифорния быть основывать год часто относить альтернативный рок скейт панк панк рок музыка также содержать элемент гранж метать ска текст песня обычно носить оттенок сарказм посвящать личный взаимоотношение социально политический проблема в настоящий время ее состав входить вокалист гитарист декстер холланд гитарист кевин вассерман ударник пит парад год они гастролировать гитарист группа тодд морс в течение долгий время год ударный группа играть рон уэлти свой первый альбом группа выпускать год покровительство продюсер тома уилсон котор ранее работать группа альбом издавать небольшой тираж этот последовать шестинедельный тур с год лейбл записывать выпускать два работа альбом альбом становиться один самый успешный карьера записывать выпускать год сингл становиться хит приносить группа всемирный известность группа приглашать разогрев а двухлетний гастрольный тур поддержка заключать контракт лейбл который выпускать четвертый альбом получать название в год состояться релиз очередной альбом он расходиться мир тираж миллион экземпляр становиться такой образ самый коммерчески успешный релиз дискография группа следующий альбом получать название также становиться весьма успешный хороший продажа обеспечивать успех сингл поздно группа выпускать несколько менее интересный альбом а парочка факт который возможно знать группа участник у декстер холланд собственный марка острый соус название соус выбирать хороший американский бутилировать соус год кевин вассерман работать школьный дворник вступление группа он принимать достаточно взрослый покупать алкоголь декстер холланд иметь степень бакалавр область биология который получать университет южный калифорния магистерский степень область молекулярный биология также учиться аспирантура программа молекулярный биология иметь ученый степень доктор философия сокр молекулярный наука в российский система ученый степень приравниваться степень кандидат наука помимо панк рок наука декстер холланд также увлекаться авиация иметь лицензия пилот я радость вернуться россия декстер холланд ностальгировать турне о особенно запоминаться съездить шесть год назад мы следовать наездиться екатеринбург казань красноярск… мы очень понравиться да вообще радость вернуться россия сказать холланд на сегодня писать свой пожелание тема наслаждаться прослушивание',\n 'другой сторона на календарь пятница значит самый время литературный вечер творчество михаил булгаков отличаться переплетение мистический реальный этот писатель также известный сатирик с сторона талант михаил афанасьевич предлагать познакомиться именно специально составлять аудиоподборка небольшой рассказ классика добавлять свой плейлист наслаждаться профсоюзлитературный',\n 'приближаться пора сдача курсовой домашний задание чертеж знать распечатывать свой работа выход мгту н э бауман напоминать фойе ауд гз северный крыло работать лавка канцелярский товар мочь приобретать самый необходимый учеба также распечатывать свой работа формат а1 а4 цветной черный белый вид сделать копия оформлять переплет вкр другой работа',\n 'акция экодень общежитие состояться когда ноябрь где этаж общежитие напротив проходной какой вторсырье собираться пластиковый бутылка бутылка вода газировать напиток молоко тд если бутылка треугольник стрелочка цифра надпись смело нести ее переработка макулатура офисный бумага книга тетрадь коробка пицца еда картон… батарейка аккумулятор подробный информация группа если вы никак получаться приходить указанный время день связываться заранее слава обязательно решать проблема',\n 'спортивный комплекс мгту н э бауман приглашать девушка юноша открытый семинар рамка день айкидо тема семинар айкидо улица уход удар атака оборона ход семинар активный разминка зарядка демонстрация базовый принцип работа айкидо захват удар страховка работа оружие самостоятельный отработка пара захват удар сенсь учитель школа отвечать ваш вопрос когда ноябрь год начало регистрация старт семинар где москва госпитальный наб стр спортивный комплекс мгту н э бауман вход бесплатный количество место ограничивать размер зал запись телефон сайт']"
     },
     "metadata": {},
     "execution_count": 46
    }
   ],
   "source": [
    "texts[:5]"
   ]
  },
  {
   "cell_type": "code",
   "execution_count": 48,
   "metadata": {},
   "outputs": [],
   "source": [
    "texts_splitted = [text.split() for text in texts]"
   ]
  },
  {
   "cell_type": "code",
   "execution_count": 56,
   "metadata": {},
   "outputs": [],
   "source": [
    "def pad_text(document, pad_len):\n",
    "    if len(document) >= pad_len:\n",
    "        return document[:pad_len]\n",
    "\n",
    "    diff = pad_len - len(document)\n",
    "\n",
    "    for i in range(diff):\n",
    "        document.append('<PAD>')\n",
    "    return document"
   ]
  },
  {
   "cell_type": "code",
   "execution_count": 57,
   "metadata": {},
   "outputs": [],
   "source": [
    "pad_len = 50\n",
    "\n",
    "padded = [pad_text(text, pad_len) for text in texts_splitted]"
   ]
  },
  {
   "cell_type": "code",
   "execution_count": 60,
   "metadata": {},
   "outputs": [],
   "source": [
    "model = FastText(padded, window=3, size=10)"
   ]
  },
  {
   "cell_type": "code",
   "execution_count": 62,
   "metadata": {},
   "outputs": [
    {
     "output_type": "execute_result",
     "data": {
      "text/plain": "[('3общ', 0.9139272570610046),\n ('5общ', 0.9105619788169861),\n ('общяга', 0.9007397890090942),\n ('ага', 0.8961151242256165),\n ('комната', 0.8638366460800171),\n ('бумага', 0.8521593809127808),\n ('общежитие', 0.8421720862388611),\n ('черно', 0.8382362127304077),\n ('че', 0.8321846723556519),\n ('мп', 0.8287723064422607)]"
     },
     "metadata": {},
     "execution_count": 62
    }
   ],
   "source": [
    "model.wv.most_similar('общага')"
   ]
  },
  {
   "cell_type": "code",
   "execution_count": 63,
   "metadata": {},
   "outputs": [],
   "source": [
    "texts_fast = [ np.mean(model[word])  for text in padded for word in text ] "
   ]
  },
  {
   "cell_type": "code",
   "execution_count": 64,
   "metadata": {},
   "outputs": [
    {
     "output_type": "execute_result",
     "data": {
      "text/plain": "[-0.24456295, -0.51390254, 0.32241684, -1.4395494, -0.055223804]"
     },
     "metadata": {},
     "execution_count": 64
    }
   ],
   "source": [
    "texts_fast[:5]"
   ]
  },
  {
   "cell_type": "code",
   "execution_count": null,
   "metadata": {},
   "outputs": [],
   "source": []
  }
 ],
 "metadata": {
  "language_info": {
   "codemirror_mode": {
    "name": "ipython",
    "version": 3
   },
   "file_extension": ".py",
   "mimetype": "text/x-python",
   "name": "python",
   "nbconvert_exporter": "python",
   "pygments_lexer": "ipython3",
   "version": "3.7.6-final"
  },
  "orig_nbformat": 2,
  "kernelspec": {
   "name": "python3",
   "display_name": "Python 3"
  }
 },
 "nbformat": 4,
 "nbformat_minor": 2
}